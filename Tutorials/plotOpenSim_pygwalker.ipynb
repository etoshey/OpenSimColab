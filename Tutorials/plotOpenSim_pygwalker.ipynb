{
  "nbformat": 4,
  "nbformat_minor": 0,
  "metadata": {
    "colab": {
      "provenance": []
    },
    "kernelspec": {
      "name": "python3",
      "display_name": "Python 3"
    },
    "language_info": {
      "name": "python"
    }
  },
  "cells": [
    {
      "cell_type": "markdown",
      "source": [
        "# To plot any outcome from OpenSim using amazing and free pygwalker\n",
        "- import or upload any file like mot, trc, sto\n",
        "- convert it into pandas\n",
        "- plot and enjoy all in one place using [pygwalker](https://github.com/Kanaries/pygwalker) \n",
        "\n",
        "\n",
        "For more information, please visit us here: https://simtk.org/projects/opencolab\n",
        "\n",
        "Project Lead: Dr. Hossein Mokhtarzadeh\n",
        "\n",
        "Other contributors:\n",
        "\n",
        "github: [hmok](https://github.com/hmok) \n",
        "\n",
        "Contact: mokhtarzadeh dot hossein at gmail dot com\n"
      ],
      "metadata": {
        "id": "hZbm5YbVi00C"
      }
    },
    {
      "cell_type": "markdown",
      "source": [
        "# Install libraries"
      ],
      "metadata": {
        "id": "Tfc25YaajlEC"
      }
    },
    {
      "cell_type": "code",
      "execution_count": null,
      "metadata": {
        "id": "txh3MdheWd7R"
      },
      "outputs": [],
      "source": [
        "!pip install pygwalker\n",
        "import pygwalker as pyg"
      ]
    },
    {
      "cell_type": "markdown",
      "source": [
        "# Get the outcome like .mot file for a GRFs"
      ],
      "metadata": {
        "id": "cJmX4p6HjJyS"
      }
    },
    {
      "cell_type": "code",
      "source": [
        "!wget https://raw.githubusercontent.com/opensim-org/opensim-models/master/Tutorials/Estimating_Joint_Reaction_Loads/subject01_walk1_grf.mot\n",
        "!wget https://raw.githubusercontent.com/opensim-org/opensim-models/master/Tutorials/Estimating_Joint_Reaction_Loads/OutputReference/ResultsStaticOptimization/subject01_StaticOptimization_force.sto"
      ],
      "metadata": {
        "id": "y5w773zgtcXs"
      },
      "execution_count": null,
      "outputs": []
    },
    {
      "cell_type": "markdown",
      "source": [
        "# Convert it into Panda Dataframe\n",
        "\n",
        "**Note:** in this line\n",
        "\n",
        "df = pd.read_csv('/content/subject01_walk1_grf.mot', sep='\\t', header=5) \n",
        "\n",
        "The header might need to change for diff extension files"
      ],
      "metadata": {
        "id": "QOUjoaD_jPyK"
      }
    },
    {
      "cell_type": "code",
      "source": [
        "#replace with sto if intersted /content/subject01_StaticOptimization_force.sto header=9 or header=5 (one can automate to get metadata too)\n",
        "import pandas as pd\n",
        "\n",
        "# read the file into a pandas dataframe\n",
        "df = pd.read_csv('/content/subject01_walk1_grf.mot', sep='\\t', header=5) # Note the header might need to change for diff extension files\n",
        "\n",
        "df = pd.read_table('/content/subject01_StaticOptimization_force.sto',sep='\\t', header=10)\n",
        "\n",
        "# print the first five rows of the dataframe\n",
        "print(df.head())\n"
      ],
      "metadata": {
        "id": "q3eN6JOxxQVF"
      },
      "execution_count": null,
      "outputs": []
    },
    {
      "cell_type": "markdown",
      "source": [
        "# Plot as you wish by loading the df\n",
        "- drag and drop in x and y Axis as you wish. \n",
        "- you can enjoy all sorts of graphs\n",
        "- see the Data tab as well to make sure all data is read well"
      ],
      "metadata": {
        "id": "YPBXz5SdjsGi"
      }
    },
    {
      "cell_type": "code",
      "source": [
        "pyg.walk(df)"
      ],
      "metadata": {
        "id": "IFlQu8Keg9wo"
      },
      "execution_count": null,
      "outputs": []
    }
  ]
}